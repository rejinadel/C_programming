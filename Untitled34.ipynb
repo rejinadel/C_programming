{
  "nbformat": 4,
  "nbformat_minor": 0,
  "metadata": {
    "colab": {
      "provenance": [],
      "authorship_tag": "ABX9TyNKcBvYYatUmDWq4PSAR4YF",
      "include_colab_link": true
    },
    "kernelspec": {
      "name": "python3",
      "display_name": "Python 3"
    },
    "language_info": {
      "name": "python"
    }
  },
  "cells": [
    {
      "cell_type": "markdown",
      "metadata": {
        "id": "view-in-github",
        "colab_type": "text"
      },
      "source": [
        "<a href=\"https://colab.research.google.com/github/rejinadel/C_programming/blob/main/Untitled34.ipynb\" target=\"_parent\"><img src=\"https://colab.research.google.com/assets/colab-badge.svg\" alt=\"Open In Colab\"/></a>"
      ]
    },
    {
      "cell_type": "markdown",
      "source": [
        "Functions"
      ],
      "metadata": {
        "id": "-F7Srn3I8H1W"
      }
    },
    {
      "cell_type": "code",
      "source": [
        "def func():    \n",
        "  print(\"Hello!, Rezna\")\n",
        "\n",
        "func()"
      ],
      "metadata": {
        "colab": {
          "base_uri": "https://localhost:8080/"
        },
        "id": "-uaMDjem8JkE",
        "outputId": "18d6ad0d-589a-4f3e-de71-642f91d89a11"
      },
      "execution_count": 1,
      "outputs": [
        {
          "output_type": "stream",
          "name": "stdout",
          "text": [
            "Hello!, Rezna\n"
          ]
        }
      ]
    },
    {
      "cell_type": "code",
      "source": [
        "#Converting Nepali rupees into US dollar\n",
        "def Rs_dollar(Rupee):\n",
        "  Into_dollar = Rupee * 0.0075\n",
        "  print(Into_dollar)\n",
        "Rs_dollar(1000)"
      ],
      "metadata": {
        "colab": {
          "base_uri": "https://localhost:8080/"
        },
        "id": "H3bxMVz08d_c",
        "outputId": "cb7f27dc-7327-4961-fa06-14dad1c9d8d1"
      },
      "execution_count": 4,
      "outputs": [
        {
          "output_type": "stream",
          "name": "stdout",
          "text": [
            "7.5\n"
          ]
        }
      ]
    },
    {
      "cell_type": "markdown",
      "source": [
        "Asking Parameters using functions"
      ],
      "metadata": {
        "id": "hDKHGAZXCkbV"
      }
    },
    {
      "cell_type": "code",
      "source": [
        "def add(num1,num2):     #Asking Parameters\n",
        "  num3 = num1+num2      #Adding two numbers and storing it into num3\n",
        "  print(num3)           \n",
        "add(2,3)                #providing parameters"
      ],
      "metadata": {
        "colab": {
          "base_uri": "https://localhost:8080/"
        },
        "id": "I9tTFkk_CFE9",
        "outputId": "16b66921-c12f-48ca-a402-665787721683"
      },
      "execution_count": 5,
      "outputs": [
        {
          "output_type": "stream",
          "name": "stdout",
          "text": [
            "5\n"
          ]
        }
      ]
    },
    {
      "cell_type": "markdown",
      "source": [
        "Converting an object into list object"
      ],
      "metadata": {
        "id": "1YlWRwlvDFI7"
      }
    },
    {
      "cell_type": "code",
      "source": [
        "print(list())\n",
        "stringobj = (\"REZNALAXMIGHIMIRE\")\n",
        "print(list(stringobj))\n",
        "tupleobj = (\"abcde\")\n",
        "print(tuple(tupleobj))\n",
        "print(list(tupleobj))"
      ],
      "metadata": {
        "colab": {
          "base_uri": "https://localhost:8080/"
        },
        "id": "vQZJTou5DOfl",
        "outputId": "fa083080-338e-43a0-fcf3-bea3b28f876f"
      },
      "execution_count": 12,
      "outputs": [
        {
          "output_type": "stream",
          "name": "stdout",
          "text": [
            "[]\n",
            "['R', 'E', 'Z', 'N', 'A', 'L', 'A', 'X', 'M', 'I', 'G', 'H', 'I', 'M', 'I', 'R', 'E']\n",
            "('a', 'b', 'c', 'd', 'e')\n",
            "['a', 'b', 'c', 'd', 'e']\n"
          ]
        }
      ]
    },
    {
      "cell_type": "code",
      "source": [
        "a = 1\n",
        "for i in range(1,10,1):   #start,stop,step\n",
        "  a = a*i\n",
        "print(\"Multiplication of first 10 natural number:\",a)\n"
      ],
      "metadata": {
        "colab": {
          "base_uri": "https://localhost:8080/"
        },
        "id": "5RQcfQ1lE2Az",
        "outputId": "3c85d3f4-caa0-4693-df22-14c0d255427c"
      },
      "execution_count": 16,
      "outputs": [
        {
          "output_type": "stream",
          "name": "stdout",
          "text": [
            "Multiplication of first 10 natural number: 362880\n"
          ]
        }
      ]
    },
    {
      "cell_type": "code",
      "source": [
        "def add( a,  b):\n",
        "  sum = a + b\n",
        "  print(sum)\n",
        "add(1,2)"
      ],
      "metadata": {
        "colab": {
          "base_uri": "https://localhost:8080/"
        },
        "id": "MXqa59M4G38v",
        "outputId": "9e42827c-5d69-4ad1-ce6d-d684940ac614"
      },
      "execution_count": 20,
      "outputs": [
        {
          "output_type": "stream",
          "name": "stdout",
          "text": [
            "3\n"
          ]
        }
      ]
    },
    {
      "cell_type": "code",
      "source": [],
      "metadata": {
        "id": "VGMwt-vtHbj1"
      },
      "execution_count": null,
      "outputs": []
    }
  ]
}